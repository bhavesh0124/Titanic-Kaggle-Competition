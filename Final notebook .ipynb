{
 "cells": [
  {
   "cell_type": "code",
   "execution_count": 323,
   "metadata": {
    "scrolled": true
   },
   "outputs": [],
   "source": [
    "import pandas as pd\n",
    "import numpy as np\n",
    "import matplotlib.pyplot as plt\n",
    "import seaborn as sns\n",
    "import warnings\n",
    "warnings.filterwarnings('ignore')\n",
    "import numpy as np\n",
    "from sklearn.preprocessing import LabelEncoder"
   ]
  },
  {
   "cell_type": "code",
   "execution_count": 324,
   "metadata": {},
   "outputs": [],
   "source": [
    "df_train=pd.read_csv(\"train.csv\")\n",
    "df_test=pd.read_csv(\"test.csv\")\n",
    "df_train['Title'] = df_train.Name.str.extract(' ([A-Za-z]+)\\.', expand=False)\n",
    "df_test['Title'] = df_test.Name.str.extract(' ([A-Za-z]+)\\.', expand=False)\n"
   ]
  },
  {
   "cell_type": "code",
   "execution_count": 325,
   "metadata": {},
   "outputs": [],
   "source": [
    "combined=pd.concat([df_train,df_test])"
   ]
  },
  {
   "cell_type": "code",
   "execution_count": 326,
   "metadata": {},
   "outputs": [],
   "source": [
    "combined['Family_members'] = combined['SibSp'] + combined['Parch']\n",
    "combined.drop([\"Name\",\"SibSp\",\"Parch\",\"Cabin\",\"Ticket\"],axis=1,inplace=True)"
   ]
  },
  {
   "cell_type": "code",
   "execution_count": 327,
   "metadata": {},
   "outputs": [],
   "source": [
    "combined[\"Title\"]=combined[\"Title\"].replace(['Lady', 'Countess','Capt', 'Col',\\\n",
    "'Don', 'Dr', 'Major', 'Rev', 'Sir', 'Jonkheer', 'Dona'],'Rare')\n",
    "combined[\"Title\"]=combined[\"Title\"].replace(['Mlle','Ms'],'Miss')\n",
    "combined[\"Title\"]=combined[\"Title\"].replace(['Mme'],'Mrs')"
   ]
  },
  {
   "cell_type": "markdown",
   "metadata": {},
   "source": [
    "Missing Values handle"
   ]
  },
  {
   "cell_type": "code",
   "execution_count": 328,
   "metadata": {},
   "outputs": [],
   "source": [
    "combined['Age'] = combined['Age'].fillna(combined.groupby([\"Title\"])['Age'].transform('mean'))\n",
    "combined['Fare'] = combined['Fare'].fillna(combined.groupby([\"Pclass\"])['Fare'].transform('mean'))\n",
    "combined['Embarked']=combined['Embarked'].fillna(\"S\")"
   ]
  },
  {
   "cell_type": "code",
   "execution_count": 329,
   "metadata": {},
   "outputs": [],
   "source": [
    "# from sklearn.impute import KNNImputer\n",
    "# from sklearn.impute import SimpleImputer\n",
    "# imputer = KNNImputer(n_neighbors=3, weights=\"uniform\")\n",
    "# imp = SimpleImputer(missing_values=np.nan, strategy='most_frequent')\n",
    "# combined[\"Age\"]=pd.DataFrame(imputer.fit_transform(combined[\"Age\"].values.reshape(-1,1)))\n",
    "# combined[\"Fare\"]=pd.DataFrame(imputer.fit_transform(combined[\"Fare\"].values.reshape(-1,1)))\n",
    "# combined[\"Embarked\"]=pd.DataFrame(imp.fit_transform(combined[\"Embarked\"].values.reshape(-1,1)))"
   ]
  },
  {
   "cell_type": "code",
   "execution_count": 330,
   "metadata": {},
   "outputs": [],
   "source": [
    "combined.loc[(combined['Pclass'] == 1),'Pclass_Band'] = 3\n",
    "combined.loc[(combined['Pclass'] == 3),'Pclass_Band'] = 1\n",
    "combined.loc[(combined['Pclass'] == 2),'Pclass_Band'] = 2\n"
   ]
  },
  {
   "cell_type": "code",
   "execution_count": 331,
   "metadata": {},
   "outputs": [],
   "source": [
    "combined = pd.get_dummies(combined,columns=[\"Sex\",\"Embarked\",\"Title\"])\n",
    "combined.drop([\"Sex_male\",\"Embarked_S\"],axis=1,inplace=True)\n",
    "combined[\"Title_Mr\"]=0"
   ]
  },
  {
   "cell_type": "code",
   "execution_count": 332,
   "metadata": {},
   "outputs": [],
   "source": [
    "# combined.loc[ combined['Fare'] <= 7.91, 'Fare_Band'] = 0\n",
    "# combined.loc[(combined['Fare'] > 7.91) & (combined['Fare'] <= 14.454), 'Fare_Band'] = 1\n",
    "# combined.loc[(combined['Fare'] > 14.454) & (combined['Fare'] <= 31), 'Fare_Band'] = 2\n",
    "# combined.loc[ combined['Fare'] > 31, 'Fare_Band'] = 3\n",
    "# combined['Fare_Band'] = combined['Fare_Band'].astype(int)\n",
    "# combined.drop(['Fare'],axis=1,inplace=True)"
   ]
  },
  {
   "cell_type": "code",
   "execution_count": 333,
   "metadata": {},
   "outputs": [],
   "source": [
    "combined[\"Pclass_Band\"]=combined[\"Pclass_Band\"].astype(int)\n",
    "combined.drop([\"Pclass\"],axis=1,inplace=True)"
   ]
  },
  {
   "cell_type": "code",
   "execution_count": 334,
   "metadata": {},
   "outputs": [],
   "source": [
    "df_train=combined.iloc[:891,]\n",
    "df_test=combined.iloc[891:,]"
   ]
  },
  {
   "cell_type": "code",
   "execution_count": 335,
   "metadata": {},
   "outputs": [],
   "source": [
    "df_train.drop([\"PassengerId\"],axis=1,inplace=True)\n",
    "df_train[\"Survived\"]=df_train[\"Survived\"].astype(int)"
   ]
  },
  {
   "cell_type": "code",
   "execution_count": 336,
   "metadata": {},
   "outputs": [],
   "source": [
    "Y_train = df_train['Survived']\n",
    "X_train = df_train.drop('Survived', axis=1)"
   ]
  },
  {
   "cell_type": "code",
   "execution_count": 337,
   "metadata": {},
   "outputs": [],
   "source": [
    "Y_test = df_test['Survived']\n",
    "X_test = df_test.drop('Survived', axis=1)"
   ]
  },
  {
   "cell_type": "code",
   "execution_count": 338,
   "metadata": {},
   "outputs": [],
   "source": [
    "import numpy as np # linear algebra\n",
    "import pandas as pd # data processing, CSV file I/O (e.g. pd.read_csv)\n",
    "from sklearn.model_selection import train_test_split\n",
    "from sklearn.metrics import mean_squared_error\n",
    "from operator import itemgetter\n",
    "import xgboost as xgb\n",
    "import random\n",
    "import time\n",
    "from sklearn.model_selection import GridSearchCV\n",
    "from sklearn.metrics import average_precision_score\n",
    "import matplotlib.pyplot as plt\n",
    "from numpy import genfromtxt\n",
    "import seaborn as sns\n",
    "from sklearn import preprocessing\n",
    "from sklearn.metrics import roc_curve, auc,recall_score,precision_score\n",
    "import datetime as dt"
   ]
  },
  {
   "cell_type": "code",
   "execution_count": 339,
   "metadata": {},
   "outputs": [
    {
     "data": {
      "text/plain": [
       "XGBClassifier(base_score=0.5, booster=None, colsample_bylevel=1,\n",
       "              colsample_bynode=1, colsample_bytree=0.6, gamma=0.0, gpu_id=-1,\n",
       "              importance_type='gain', interaction_constraints=None,\n",
       "              learning_rate=0.02, max_delta_step=0, max_depth=3,\n",
       "              min_child_weight=1, missing=nan, monotone_constraints=None,\n",
       "              n_estimators=750, n_jobs=0, num_parallel_tree=1,\n",
       "              objective='binary:logistic', random_state=0, reg_alpha=0.001,\n",
       "              reg_lambda=1, scale_pos_weight=1, subsample=0.8, tree_method=None,\n",
       "              validate_parameters=False, verbosity=None)"
      ]
     },
     "execution_count": 339,
     "metadata": {},
     "output_type": "execute_result"
    }
   ],
   "source": [
    "xg = XGBClassifier(learning_rate=0.0, n_estimators=750,\n",
    "                   max_depth= 3, min_child_weight= 1, \n",
    "                   colsample_bytree= 0.6, gamma= 0.0, \n",
    "                   reg_alpha= 0.001, subsample= 0.8\n",
    "                  )\n",
    "xg.fit(X_train,Y_train)"
   ]
  },
  {
   "cell_type": "code",
   "execution_count": 340,
   "metadata": {},
   "outputs": [],
   "source": [
    "df_test[\"Survived\"]=xg.predict(df_test.drop([\"PassengerId\",\"Survived\"],axis=1))"
   ]
  },
  {
   "cell_type": "code",
   "execution_count": 342,
   "metadata": {},
   "outputs": [],
   "source": [
    "submission=df_test[[\"PassengerId\",\"Survived\"]]"
   ]
  },
  {
   "cell_type": "code",
   "execution_count": 343,
   "metadata": {},
   "outputs": [],
   "source": [
    "submission.to_csv(\"submission\",index=False)"
   ]
  },
  {
   "cell_type": "code",
   "execution_count": 287,
   "metadata": {},
   "outputs": [],
   "source": [
    "def run_single(train, test, features, target, random_state=0):    \n",
    "    eta = 0.4\n",
    "    max_depth= 6\n",
    "    subsample = 1\n",
    "    colsample_bytree =1\n",
    "    n_estimators=400\n",
    "    start_time = time.time()\n",
    "\n",
    "    print('XGBoost params. ETA: {}, MAX_DEPTH: {}, SUBSAMPLE: {}, COLSAMPLE_BY_TREE: {}'.format(eta, max_depth, subsample, colsample_bytree))\n",
    "    params = {\n",
    "        \"objective\": \"binary:logistic\",\n",
    "        \"booster\" : \"gbtree\",\n",
    "        \"eval_metric\": \"auc\",\n",
    "        \"n_estimators\":n_estimators,\n",
    "        \"eta\": eta,\n",
    "        \"tree_method\": 'exact',\n",
    "        \"max_depth\": max_depth,\n",
    "        \"subsample\": subsample,\n",
    "        \"colsample_bytree\": colsample_bytree,\n",
    "        \"silent\": 1,\n",
    "        #\"min_chil_weight\":min_chil_weight,\n",
    "        \"seed\": random_state,\n",
    "        #\"gamma\":gamma\n",
    "        #\"num_class\" : 22,\n",
    "    }\n",
    "    num_boost_round = 3000\n",
    "    early_stopping_rounds = 100\n",
    "    test_size = 0.1\n",
    "\n",
    "   \n",
    "    \n",
    "    X_train, X_valid = train_test_split(train, test_size=test_size, random_state=random_state)\n",
    "    print('Length train:', len(X_train.index))\n",
    "    print('Length valid:', len(X_valid.index))\n",
    "    y_train = X_train[target]\n",
    "    y_valid = X_valid[target]\n",
    "    dtrain = xgb.DMatrix(X_train[features], y_train, missing=-99)\n",
    "    dvalid = xgb.DMatrix(X_valid[features], y_valid, missing =-99)\n",
    "\n",
    "    watchlist = [(dtrain, 'train'), (dvalid, 'eval')]\n",
    "    gbm = xgb.train(params, dtrain, num_boost_round, evals=watchlist, early_stopping_rounds=early_stopping_rounds, verbose_eval=True)\n",
    "    print(\"Validating...\")\n",
    "    check = gbm.predict(xgb.DMatrix(X_valid[features]), ntree_limit=gbm.best_iteration+1)\n",
    "    \n",
    "    #area under the precision-recall curve\n",
    "    score = average_precision_score(X_valid[target].values, check)\n",
    "    print('area under the precision-recall curve: {:.6f}'.format(score))\n",
    "\n",
    "    \n",
    "    check2=check.round()\n",
    "    score = precision_score(X_valid[target].values, check2)\n",
    "    print('precision score: {:.6f}'.format(score))\n",
    "\n",
    "    score = recall_score(X_valid[target].values, check2)\n",
    "    print('recall score: {:.6f}'.format(score))\n",
    "    #xgb.plot_importance(model, height=0.4, ax=ax)\n",
    "    #imp = get_importance(gbm, features)\n",
    "    #print('Importance array: ', imp)\n",
    "\n",
    "    print(\"Trainin and prediction again test set... \")\n",
    "    \n",
    "    d_final = xgb.DMatrix(train[features], train[target], missing =-99)\n",
    "    \n",
    "    gbm = xgb.train(params, d_final)\n",
    "    test_prediction = gbm.predict(xgb.DMatrix(test[features],missing = -99), ntree_limit=gbm.best_iteration+1)\n",
    "    \n",
    "    df_test[\"Survived\"]=pd.DataFrame(test_prediction)\n",
    "    \n",
    "    xgb.plot_importance(gbm, height=0.4)\n",
    "    \n",
    "    #score = average_precision_score(test[target].values, test_prediction)\n",
    "\n",
    "    #print('area under the precision-recall curve test set: {:.6f}'.format(score))\n",
    "    \n",
    "    ############################################ ROC Curve\n",
    "    \n",
    "\n",
    " \n",
    "    # Compute micro-average ROC curve and ROC area\n",
    "    fpr, tpr, _ = roc_curve(X_valid[target].values, check)\n",
    "    roc_auc = auc(fpr, tpr)\n",
    "    #xgb.plot_importance(gbm)\n",
    "    #plt.show()\n",
    "    plt.figure()\n",
    "    lw = 2\n",
    "    plt.plot(fpr, tpr, color='darkorange',\n",
    "             lw=lw, label='ROC curve (area = %0.2f)' % roc_auc)\n",
    "    plt.plot([0, 1], [0, 1], color='navy', lw=lw, linestyle='--')\n",
    "    plt.xlim([-0.02, 1.0])\n",
    "    plt.ylim([0.0, 1.05])\n",
    "    plt.xlabel('False Positive Rate')\n",
    "    plt.ylabel('True Positive Rate')\n",
    "    plt.title('ROC curve')\n",
    "    plt.legend(loc=\"lower right\")\n",
    "    plt.show()\n",
    "    ##################################################\n",
    "\n",
    "\n",
    "    print('Training time: {} minutes'.format(round((time.time() - start_time)/60, 2)))\n",
    "    return test_prediction,gbm"
   ]
  },
  {
   "cell_type": "code",
   "execution_count": 288,
   "metadata": {},
   "outputs": [
    {
     "name": "stdout",
     "output_type": "stream",
     "text": [
      "XGBoost params. ETA: 0.4, MAX_DEPTH: 6, SUBSAMPLE: 1, COLSAMPLE_BY_TREE: 1\n",
      "Length train: 801\n",
      "Length valid: 90\n",
      "[0]\ttrain-auc:0.88699\teval-auc:0.88786\n",
      "Multiple eval metrics have been passed: 'eval-auc' will be used for early stopping.\n",
      "\n",
      "Will train until eval-auc hasn't improved in 100 rounds.\n",
      "[1]\ttrain-auc:0.90337\teval-auc:0.88477\n",
      "[2]\ttrain-auc:0.91268\teval-auc:0.88632\n",
      "[3]\ttrain-auc:0.92151\teval-auc:0.90509\n",
      "[4]\ttrain-auc:0.93300\teval-auc:0.91847\n",
      "[5]\ttrain-auc:0.93518\teval-auc:0.91898\n",
      "[6]\ttrain-auc:0.93703\teval-auc:0.92027\n",
      "[7]\ttrain-auc:0.94138\teval-auc:0.92232\n",
      "[8]\ttrain-auc:0.94528\teval-auc:0.92464\n",
      "[9]\ttrain-auc:0.94722\teval-auc:0.92670\n",
      "[10]\ttrain-auc:0.94896\teval-auc:0.92721\n",
      "[11]\ttrain-auc:0.95336\teval-auc:0.92670\n",
      "[12]\ttrain-auc:0.95467\teval-auc:0.92541\n",
      "[13]\ttrain-auc:0.95600\teval-auc:0.92747\n",
      "[14]\ttrain-auc:0.96220\teval-auc:0.92284\n",
      "[15]\ttrain-auc:0.96494\teval-auc:0.91924\n",
      "[16]\ttrain-auc:0.96804\teval-auc:0.91770\n",
      "[17]\ttrain-auc:0.96937\teval-auc:0.92001\n",
      "[18]\ttrain-auc:0.97152\teval-auc:0.91692\n",
      "[19]\ttrain-auc:0.97278\teval-auc:0.91641\n",
      "[20]\ttrain-auc:0.97397\teval-auc:0.91590\n",
      "[21]\ttrain-auc:0.97552\teval-auc:0.91075\n",
      "[22]\ttrain-auc:0.97842\teval-auc:0.91487\n",
      "[23]\ttrain-auc:0.97854\teval-auc:0.91435\n",
      "[24]\ttrain-auc:0.97955\teval-auc:0.91590\n",
      "[25]\ttrain-auc:0.98060\teval-auc:0.91435\n",
      "[26]\ttrain-auc:0.98150\teval-auc:0.91384\n",
      "[27]\ttrain-auc:0.98179\teval-auc:0.91384\n",
      "[28]\ttrain-auc:0.98190\teval-auc:0.91281\n",
      "[29]\ttrain-auc:0.98371\teval-auc:0.91332\n",
      "[30]\ttrain-auc:0.98516\teval-auc:0.91332\n",
      "[31]\ttrain-auc:0.98586\teval-auc:0.91487\n",
      "[32]\ttrain-auc:0.98616\teval-auc:0.91281\n",
      "[33]\ttrain-auc:0.98631\teval-auc:0.91229\n",
      "[34]\ttrain-auc:0.98701\teval-auc:0.91461\n",
      "[35]\ttrain-auc:0.98773\teval-auc:0.91049\n",
      "[36]\ttrain-auc:0.98802\teval-auc:0.91255\n",
      "[37]\ttrain-auc:0.98863\teval-auc:0.91307\n",
      "[38]\ttrain-auc:0.98882\teval-auc:0.91461\n",
      "[39]\ttrain-auc:0.98875\teval-auc:0.91358\n",
      "[40]\ttrain-auc:0.98928\teval-auc:0.91461\n",
      "[41]\ttrain-auc:0.98948\teval-auc:0.91101\n",
      "[42]\ttrain-auc:0.98960\teval-auc:0.90998\n",
      "[43]\ttrain-auc:0.98957\teval-auc:0.91049\n",
      "[44]\ttrain-auc:0.98998\teval-auc:0.91461\n",
      "[45]\ttrain-auc:0.99016\teval-auc:0.91307\n",
      "[46]\ttrain-auc:0.99096\teval-auc:0.91307\n",
      "[47]\ttrain-auc:0.99109\teval-auc:0.91307\n",
      "[48]\ttrain-auc:0.99148\teval-auc:0.91615\n",
      "[49]\ttrain-auc:0.99159\teval-auc:0.91667\n",
      "[50]\ttrain-auc:0.99174\teval-auc:0.91770\n",
      "[51]\ttrain-auc:0.99184\teval-auc:0.91718\n",
      "[52]\ttrain-auc:0.99202\teval-auc:0.91718\n",
      "[53]\ttrain-auc:0.99240\teval-auc:0.91564\n",
      "[54]\ttrain-auc:0.99256\teval-auc:0.91461\n",
      "[55]\ttrain-auc:0.99301\teval-auc:0.91461\n",
      "[56]\ttrain-auc:0.99312\teval-auc:0.91461\n",
      "[57]\ttrain-auc:0.99313\teval-auc:0.91409\n",
      "[58]\ttrain-auc:0.99325\teval-auc:0.91307\n",
      "[59]\ttrain-auc:0.99340\teval-auc:0.91409\n",
      "[60]\ttrain-auc:0.99351\teval-auc:0.91461\n",
      "[61]\ttrain-auc:0.99387\teval-auc:0.91512\n",
      "[62]\ttrain-auc:0.99422\teval-auc:0.91512\n",
      "[63]\ttrain-auc:0.99437\teval-auc:0.91409\n",
      "[64]\ttrain-auc:0.99438\teval-auc:0.91564\n",
      "[65]\ttrain-auc:0.99442\teval-auc:0.91718\n",
      "[66]\ttrain-auc:0.99444\teval-auc:0.91770\n",
      "[67]\ttrain-auc:0.99444\teval-auc:0.91615\n",
      "[68]\ttrain-auc:0.99469\teval-auc:0.91564\n",
      "[69]\ttrain-auc:0.99485\teval-auc:0.91615\n",
      "[70]\ttrain-auc:0.99485\teval-auc:0.91512\n",
      "[71]\ttrain-auc:0.99479\teval-auc:0.91564\n",
      "[72]\ttrain-auc:0.99494\teval-auc:0.91409\n",
      "[73]\ttrain-auc:0.99500\teval-auc:0.91461\n",
      "[74]\ttrain-auc:0.99530\teval-auc:0.91667\n",
      "[75]\ttrain-auc:0.99532\teval-auc:0.91615\n",
      "[76]\ttrain-auc:0.99534\teval-auc:0.91461\n",
      "[77]\ttrain-auc:0.99532\teval-auc:0.91409\n",
      "[78]\ttrain-auc:0.99557\teval-auc:0.91255\n",
      "[79]\ttrain-auc:0.99553\teval-auc:0.91358\n",
      "[80]\ttrain-auc:0.99573\teval-auc:0.91512\n",
      "[81]\ttrain-auc:0.99584\teval-auc:0.91564\n",
      "[82]\ttrain-auc:0.99606\teval-auc:0.91307\n",
      "[83]\ttrain-auc:0.99610\teval-auc:0.91307\n",
      "[84]\ttrain-auc:0.99618\teval-auc:0.91409\n",
      "[85]\ttrain-auc:0.99608\teval-auc:0.91461\n",
      "[86]\ttrain-auc:0.99619\teval-auc:0.91358\n",
      "[87]\ttrain-auc:0.99626\teval-auc:0.91307\n",
      "[88]\ttrain-auc:0.99631\teval-auc:0.91564\n",
      "[89]\ttrain-auc:0.99652\teval-auc:0.91358\n",
      "[90]\ttrain-auc:0.99655\teval-auc:0.91461\n",
      "[91]\ttrain-auc:0.99658\teval-auc:0.91512\n",
      "[92]\ttrain-auc:0.99659\teval-auc:0.91461\n",
      "[93]\ttrain-auc:0.99659\teval-auc:0.91358\n",
      "[94]\ttrain-auc:0.99674\teval-auc:0.91358\n",
      "[95]\ttrain-auc:0.99673\teval-auc:0.91358\n",
      "[96]\ttrain-auc:0.99683\teval-auc:0.91101\n",
      "[97]\ttrain-auc:0.99687\teval-auc:0.91101\n",
      "[98]\ttrain-auc:0.99687\teval-auc:0.91101\n",
      "[99]\ttrain-auc:0.99697\teval-auc:0.91204\n",
      "[100]\ttrain-auc:0.99708\teval-auc:0.91204\n",
      "[101]\ttrain-auc:0.99705\teval-auc:0.91409\n",
      "[102]\ttrain-auc:0.99705\teval-auc:0.91358\n",
      "[103]\ttrain-auc:0.99714\teval-auc:0.90998\n",
      "[104]\ttrain-auc:0.99714\teval-auc:0.90998\n",
      "[105]\ttrain-auc:0.99720\teval-auc:0.91049\n",
      "[106]\ttrain-auc:0.99728\teval-auc:0.90998\n",
      "[107]\ttrain-auc:0.99734\teval-auc:0.90998\n",
      "[108]\ttrain-auc:0.99728\teval-auc:0.90895\n",
      "[109]\ttrain-auc:0.99730\teval-auc:0.90946\n",
      "[110]\ttrain-auc:0.99730\teval-auc:0.90998\n",
      "[111]\ttrain-auc:0.99734\teval-auc:0.90998\n",
      "[112]\ttrain-auc:0.99737\teval-auc:0.90792\n",
      "[113]\ttrain-auc:0.99750\teval-auc:0.91049\n",
      "Stopping. Best iteration:\n",
      "[13]\ttrain-auc:0.95600\teval-auc:0.92747\n",
      "\n",
      "Validating...\n",
      "area under the precision-recall curve: 0.899925\n",
      "precision score: 0.769231\n",
      "recall score: 0.833333\n",
      "Trainin and prediction again test set... \n"
     ]
    },
    {
     "data": {
      "image/png": "[encoded data removed]",
      "text/plain": [
       "<Figure size 432x288 with 1 Axes>"
      ]
     },
     "metadata": {
      "needs_background": "light"
     },
     "output_type": "display_data"
    },
    {
     "data": {
      "image/png": "[encoded data removed]",
      "text/plain": [
       "<Figure size 432x288 with 1 Axes>"
      ]
     },
     "metadata": {
      "needs_background": "light"
     },
     "output_type": "display_data"
    },
    {
     "name": "stdout",
     "output_type": "stream",
     "text": [
      "Training time: 0.02 minutes\n"
     ]
    }
   ],
   "source": [
    "features = list(df_train.columns.values)\n",
    "features.remove('Survived')\n",
    "\n",
    "train, test = train_test_split(df_train, test_size=.1, random_state=random.seed(42))\n",
    "\n",
    "preds,num_boost_rounds = run_single(df_train, df_test.drop([\"PassengerId\"],axis=1), features,'Survived',42)"
   ]
  },
  {
   "cell_type": "code",
   "execution_count": 295,
   "metadata": {},
   "outputs": [],
   "source": [
    "df_test[\"Survived\"]=df_test[\"Survived\"].apply(lambda x: round(x))"
   ]
  },
  {
   "cell_type": "code",
   "execution_count": 297,
   "metadata": {},
   "outputs": [],
   "source": [
    "submission=df_test[[\"PassengerId\",\"Survived\"]]"
   ]
  },
  {
   "cell_type": "code",
   "execution_count": 298,
   "metadata": {
    "scrolled": true
   },
   "outputs": [],
   "source": [
    "submission.to_csv(\"submission\",index=False)"
   ]
  },
  {
   "cell_type": "code",
   "execution_count": 246,
   "metadata": {},
   "outputs": [],
   "source": [
    "submission = pd.DataFrame({\n",
    "        \"PassengerId\": X_test[\"PassengerId\"],\n",
    "        \"Survived\": model.predict(X_test.drop([\"PassengerId\"],axis=1))\n",
    "    })"
   ]
  },
  {
   "cell_type": "code",
   "execution_count": 247,
   "metadata": {},
   "outputs": [],
   "source": [
    "submission[\"Survived\"]=submission[\"Survived\"].astype(int)\n"
   ]
  },
  {
   "cell_type": "code",
   "execution_count": 248,
   "metadata": {},
   "outputs": [],
   "source": [
    "submission.to_csv('one_more_time.csv', index=False)"
   ]
  },
  {
   "cell_type": "code",
   "execution_count": null,
   "metadata": {},
   "outputs": [],
   "source": []
  }
 ],
 "metadata": {
  "kernelspec": {
   "display_name": "Python 3",
   "language": "python",
   "name": "python3"
  },
  "language_info": {
   "codemirror_mode": {
    "name": "ipython",
    "version": 3
   },
   "file_extension": ".py",
   "mimetype": "text/x-python",
   "name": "python",
   "nbconvert_exporter": "python",
   "pygments_lexer": "ipython3",
   "version": "3.6.9"
  }
 },
 "nbformat": 4,
 "nbformat_minor": 2
}
